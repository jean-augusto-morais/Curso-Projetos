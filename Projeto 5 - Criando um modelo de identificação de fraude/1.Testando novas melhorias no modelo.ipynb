{
 "cells": [
  {
   "cell_type": "markdown",
   "id": "fc8a04b6",
   "metadata": {},
   "source": [
    "# Criando um modelo de identificação de fraudes\n",
    "- https://www.kaggle.com/datasets/mlg-ulb/creditcardfraud\n",
    "- Informações da base:\n",
    "    - 'Time' (tempo): contém os segundos decorridos entre cada transação e a primeira transação no conjunto de dados. \n",
    "    - 'Amount' (valor): é o valor da transação \n",
    "    - 'Class' (classe): é a variável de resposta e assume valor 1 em caso de fraude e 0 caso contrário.\n",
    "    - \"Infelizmente, devido a questões de confidencialidade, não podemos fornecer os recursos originais e mais informações básicas sobre os dados. Características V1, V2, … V28 são os principais componentes obtidos com PCA\""
   ]
  },
  {
   "cell_type": "code",
   "execution_count": 1,
   "id": "b6c63cf1",
   "metadata": {},
   "outputs": [],
   "source": [
    "import warnings\n",
    "warnings.filterwarnings('ignore')"
   ]
  },
  {
   "cell_type": "code",
   "execution_count": 2,
   "id": "d1b3e38d",
   "metadata": {},
   "outputs": [],
   "source": [
    "# Importando o pandas\n",
    "import pandas as pd"
   ]
  },
  {
   "cell_type": "code",
   "execution_count": 3,
   "id": "33d680a4",
   "metadata": {},
   "outputs": [],
   "source": [
    "# Importando a base\n",
    "transacoes = pd.read_csv('creditcard.csv')"
   ]
  },
  {
   "cell_type": "markdown",
   "id": "3d19bd55",
   "metadata": {},
   "source": [
    "<a id='modelo'></a>\n",
    "### Criando um modelo de aprendizado de máquinas para identificar fraude\n",
    "- Vamos criar um modelo para identificar fraude sem fazer nenhum tratamento nessa base"
   ]
  },
  {
   "cell_type": "markdown",
   "id": "3b5bf26e",
   "metadata": {},
   "source": [
    "**Podemos ajustar as colunas Time e Amount para que elas fiquem entre 0 e 1**"
   ]
  },
  {
   "cell_type": "code",
   "execution_count": 4,
   "id": "c139e26b",
   "metadata": {},
   "outputs": [],
   "source": [
    "# Primeiro para a coluna Time\n",
    "transacoes.Time = transacoes.Time / transacoes.Time.max()"
   ]
  },
  {
   "cell_type": "code",
   "execution_count": 5,
   "id": "6ec4de3c",
   "metadata": {},
   "outputs": [],
   "source": [
    "# E então para a coluna Amount\n",
    "transacoes.Amount = transacoes.Amount / transacoes.Amount.max()"
   ]
  },
  {
   "cell_type": "code",
   "execution_count": 6,
   "id": "4ea6ba8c",
   "metadata": {},
   "outputs": [],
   "source": [
    "# Separando X e y\n",
    "X = transacoes.drop('Class',axis=1)\n",
    "y = transacoes.Class"
   ]
  },
  {
   "cell_type": "markdown",
   "id": "3c7555b7",
   "metadata": {},
   "source": [
    "**Separando em treino e teste**\n",
    "- https://scikit-learn.org/stable/modules/generated/sklearn.model_selection.train_test_split.html"
   ]
  },
  {
   "cell_type": "code",
   "execution_count": 7,
   "id": "e4aeb433",
   "metadata": {},
   "outputs": [],
   "source": [
    "# Separando em treino e teste\n",
    "from sklearn.model_selection import train_test_split\n",
    "X_train, X_test, y_train, y_test = train_test_split(X, y, test_size=0.33, random_state=0,stratify=y)"
   ]
  },
  {
   "cell_type": "markdown",
   "id": "856cf14c",
   "metadata": {},
   "source": [
    "### Realizando o random undersampling\n",
    "- https://imbalanced-learn.org/stable/references/generated/imblearn.under_sampling.RandomUnderSampler.html"
   ]
  },
  {
   "cell_type": "code",
   "execution_count": 8,
   "id": "bd4ed0fe",
   "metadata": {},
   "outputs": [],
   "source": [
    "# Importando o RandomUnderSampler do imblearn\n",
    "from imblearn.under_sampling import RandomUnderSampler "
   ]
  },
  {
   "cell_type": "code",
   "execution_count": 9,
   "id": "b08361e4",
   "metadata": {},
   "outputs": [],
   "source": [
    "# Definindo o RandomUnderSampler\n",
    "rus = RandomUnderSampler(random_state=42)"
   ]
  },
  {
   "cell_type": "code",
   "execution_count": 10,
   "id": "cc032cfc",
   "metadata": {},
   "outputs": [],
   "source": [
    "# Definindo a nova amostra\n",
    "X_resRU, y_resRU = rus.fit_resample(X_train, y_train)"
   ]
  },
  {
   "cell_type": "markdown",
   "id": "8112872d",
   "metadata": {},
   "source": [
    "<a id='modelos'></a>\n",
    "### Nas últimas aulas, tivemos como os melhores hiperparâmetros:\n",
    "- Regressão Logística:\n",
    "    - {'C': 0.001, 'solver': 'liblinear'}\\\n",
    "- SVC:\n",
    "    - {'C': 100, 'gamma': 'auto', 'kernel': 'rbf'}\n",
    "- Random Forest:\n",
    "    - {'criterion': 'gini', 'max_depth': 9, 'n_estimators': 30}"
   ]
  },
  {
   "cell_type": "code",
   "execution_count": 11,
   "id": "03dd7a3c",
   "metadata": {},
   "outputs": [],
   "source": [
    "# Importando a matriz de confusão\n",
    "from sklearn.metrics import confusion_matrix\n",
    "from sklearn.metrics import recall_score"
   ]
  },
  {
   "cell_type": "code",
   "execution_count": 12,
   "id": "d1bee985",
   "metadata": {},
   "outputs": [
    {
     "data": {
      "text/plain": [
       "array([[85217,  8608],\n",
       "       [   10,   152]])"
      ]
     },
     "execution_count": 12,
     "metadata": {},
     "output_type": "execute_result"
    }
   ],
   "source": [
    "# Regressão Logística\n",
    "from sklearn.linear_model import LogisticRegression\n",
    "\n",
    "clf_RL = LogisticRegression(random_state=0,\n",
    "                             C=0.001,\n",
    "                             solver='liblinear').fit(X_resRU, y_resRU)\n",
    "\n",
    "y_pred_RL = clf_RL.predict(X_test)\n",
    "\n",
    "confusion_matrix(y_test,y_pred_RL)"
   ]
  },
  {
   "cell_type": "code",
   "execution_count": 13,
   "id": "9842b3bb",
   "metadata": {},
   "outputs": [
    {
     "data": {
      "text/plain": [
       "array([[85791,  8034],\n",
       "       [   12,   150]])"
      ]
     },
     "execution_count": 13,
     "metadata": {},
     "output_type": "execute_result"
    }
   ],
   "source": [
    "# SVC\n",
    "from sklearn.svm import SVC\n",
    "\n",
    "clf_SVC = SVC(random_state=0,\n",
    "              probability=True,\n",
    "             C=100,gamma='auto',\n",
    "             kernel='rbf').fit(X_resRU, y_resRU)\n",
    "\n",
    "y_pred_SVC = clf_SVC.predict(X_test)\n",
    "\n",
    "confusion_matrix(y_test,y_pred_SVC)"
   ]
  },
  {
   "cell_type": "code",
   "execution_count": 14,
   "id": "66ca5d24",
   "metadata": {},
   "outputs": [
    {
     "data": {
      "text/plain": [
       "0.9259259259259259"
      ]
     },
     "execution_count": 14,
     "metadata": {},
     "output_type": "execute_result"
    }
   ],
   "source": [
    "recall_score(y_test,y_pred_SVC)"
   ]
  },
  {
   "cell_type": "code",
   "execution_count": 15,
   "id": "bbf23918",
   "metadata": {},
   "outputs": [
    {
     "data": {
      "text/plain": [
       "array([[91476,  2349],\n",
       "       [   19,   143]])"
      ]
     },
     "execution_count": 15,
     "metadata": {},
     "output_type": "execute_result"
    }
   ],
   "source": [
    "# Random Forest\n",
    "from sklearn.ensemble import RandomForestClassifier\n",
    "\n",
    "clf_RF = RandomForestClassifier(max_depth=9, \n",
    "                                random_state=0,\n",
    "                                criterion='gini',\n",
    "                                n_estimators=30).fit(X_resRU, y_resRU)\n",
    "\n",
    "y_pred_RF = clf_RF.predict(X_test)\n",
    "\n",
    "confusion_matrix(y_test,y_pred_RF)"
   ]
  },
  {
   "cell_type": "code",
   "execution_count": 16,
   "id": "79161315",
   "metadata": {},
   "outputs": [
    {
     "data": {
      "text/plain": [
       "0.8827160493827161"
      ]
     },
     "execution_count": 16,
     "metadata": {},
     "output_type": "execute_result"
    }
   ],
   "source": [
    "recall_score(y_test,y_pred_RF)"
   ]
  },
  {
   "cell_type": "markdown",
   "id": "34881927",
   "metadata": {},
   "source": [
    "### Podemos começar adicionando novos parâmetros"
   ]
  },
  {
   "cell_type": "markdown",
   "id": "cb74ffa0",
   "metadata": {},
   "source": [
    "**E novamente utilizar o `GridSearchCV`**\n",
    "- https://scikit-learn.org/stable/modules/generated/sklearn.model_selection.GridSearchCV.html"
   ]
  },
  {
   "cell_type": "code",
   "execution_count": 17,
   "id": "c867c1a3",
   "metadata": {},
   "outputs": [],
   "source": [
    "# Importando o GridSearchCV\n",
    "from sklearn.model_selection import GridSearchCV"
   ]
  },
  {
   "cell_type": "code",
   "execution_count": 31,
   "id": "0fb87aa3",
   "metadata": {},
   "outputs": [],
   "source": [
    "# Adicionando novos parâmetros\n",
    "parametros = {\n",
    "    'C': [0.001,0.01,0.1,1,10,100,1000],\n",
    "    'solver': ['newton-cg','lbfgs','liblinear','sag','saga']\n",
    "}"
   ]
  },
  {
   "cell_type": "code",
   "execution_count": 19,
   "id": "6b2c8409",
   "metadata": {},
   "outputs": [],
   "source": [
    "# Selecionando a Regressão Logística\n",
    "LogReg = LogisticRegression(random_state=42)"
   ]
  },
  {
   "cell_type": "code",
   "execution_count": 20,
   "id": "a7dce70a",
   "metadata": {},
   "outputs": [],
   "source": [
    "# Criando o classificador\n",
    "clf_RL2 = GridSearchCV(LogReg, parametros,\n",
    "                       scoring='recall'\n",
    "                      ).fit(X_resRU,y_resRU)"
   ]
  },
  {
   "cell_type": "code",
   "execution_count": 21,
   "id": "6b903c86",
   "metadata": {},
   "outputs": [
    {
     "data": {
      "text/plain": [
       "array([[78529, 15296],\n",
       "       [   11,   151]])"
      ]
     },
     "execution_count": 21,
     "metadata": {},
     "output_type": "execute_result"
    }
   ],
   "source": [
    "# E avaliando o modelo\n",
    "y_pred_RL2 = clf_RL2.predict(X_test)\n",
    "\n",
    "confusion_matrix(y_test,y_pred_RL2)"
   ]
  },
  {
   "cell_type": "code",
   "execution_count": 22,
   "id": "866cf8d5",
   "metadata": {},
   "outputs": [
    {
     "data": {
      "text/plain": [
       "0.9382716049382716"
      ]
     },
     "execution_count": 22,
     "metadata": {},
     "output_type": "execute_result"
    }
   ],
   "source": [
    "# Recall apenas com C e solver\n",
    "recall_score(y_test,y_pred_RL)"
   ]
  },
  {
   "cell_type": "code",
   "execution_count": 23,
   "id": "d91873a4",
   "metadata": {},
   "outputs": [
    {
     "data": {
      "text/plain": [
       "0.9320987654320988"
      ]
     },
     "execution_count": 23,
     "metadata": {},
     "output_type": "execute_result"
    }
   ],
   "source": [
    "# Recall com todos os parâmetros\n",
    "recall_score(y_test,y_pred_RL2)"
   ]
  },
  {
   "cell_type": "markdown",
   "id": "8182b270",
   "metadata": {},
   "source": [
    "### Podemos selecionar outras formas de fazer o undersampling\n",
    "- Podemos utilizar o NearMiss:\n",
    "    - https://imbalanced-learn.org/stable/references/generated/imblearn.under_sampling.NearMiss.html#imblearn.under_sampling.NearMiss\n",
    "- Ou o ClusterCentroids:\n",
    "    - https://imbalanced-learn.org/stable/references/generated/imblearn.under_sampling.ClusterCentroids.html"
   ]
  },
  {
   "cell_type": "code",
   "execution_count": 24,
   "id": "3d216cd2",
   "metadata": {},
   "outputs": [],
   "source": [
    "# Fazendo o resample\n",
    "from imblearn.under_sampling import ClusterCentroids \n",
    "cc = ClusterCentroids(random_state=42)\n",
    "X_resCC, y_resCC = cc.fit_resample(X_train, y_train)"
   ]
  },
  {
   "cell_type": "markdown",
   "id": "51cc3b8e",
   "metadata": {},
   "source": [
    "**Podemos então [voltar nos modelos](#modelos) com esse novo resample**"
   ]
  },
  {
   "cell_type": "markdown",
   "id": "6f7e4ccb",
   "metadata": {},
   "source": [
    "### Além disso, também é possível adicionar novas métricas no scoring (como, por exemplo, adicionar a precisão além do recall)"
   ]
  },
  {
   "cell_type": "code",
   "execution_count": 32,
   "id": "411c5c29",
   "metadata": {},
   "outputs": [],
   "source": [
    "# Criando o classificador\n",
    "clf_RL3 = GridSearchCV(LogReg, parametros,\n",
    "                       scoring=['recall','precision'],\n",
    "                       refit='recall'\n",
    "                      )"
   ]
  },
  {
   "cell_type": "code",
   "execution_count": 33,
   "id": "be41faf7",
   "metadata": {},
   "outputs": [],
   "source": [
    "clf_RL3 = clf_RL3.fit(X_resRU,y_resRU)"
   ]
  },
  {
   "cell_type": "code",
   "execution_count": 34,
   "id": "c6365c15",
   "metadata": {},
   "outputs": [
    {
     "data": {
      "text/plain": [
       "array([[85217,  8608],\n",
       "       [   10,   152]])"
      ]
     },
     "execution_count": 34,
     "metadata": {},
     "output_type": "execute_result"
    }
   ],
   "source": [
    "# Avaliando o novo modelo\n",
    "y_pred_RL3 = clf_RL3.predict(X_test)\n",
    "\n",
    "confusion_matrix(y_test,y_pred_RL3)"
   ]
  },
  {
   "cell_type": "markdown",
   "id": "c5c76204",
   "metadata": {},
   "source": [
    "### Também seria possível fazer o oversampling, lembrando que existe um custo de tempo para isso"
   ]
  },
  {
   "cell_type": "code",
   "execution_count": 41,
   "id": "743530d5",
   "metadata": {},
   "outputs": [],
   "source": [
    "# Utilizando o ADASYN para o oversampling\n",
    "from imblearn.over_sampling import ADASYN \n",
    "X_resA, y_resA = ADASYN(random_state=42).fit_resample(X_train, y_train)"
   ]
  },
  {
   "cell_type": "code",
   "execution_count": 42,
   "id": "ff7a4456",
   "metadata": {},
   "outputs": [],
   "source": [
    "# Vamos usar o datetime só para nós dar uma ideia do tempo de processamento\n",
    "import datetime as dt"
   ]
  },
  {
   "cell_type": "code",
   "execution_count": 44,
   "id": "c7f28760",
   "metadata": {},
   "outputs": [
    {
     "name": "stdout",
     "output_type": "stream",
     "text": [
      "2022-10-17 19:28:48.240105\n",
      "2022-10-17 19:52:42.583027\n"
     ]
    }
   ],
   "source": [
    "# Copiando exatamente o mesmo código e adicionando apenas o print da hora atual\n",
    "print(dt.datetime.now())\n",
    "\n",
    "clf_RL4 = GridSearchCV(LogReg, parametros,\n",
    "                       scoring=['recall','precision'],\n",
    "                       refit='recall'\n",
    "                      )\n",
    "\n",
    "clf_RL4 = clf_RL4.fit(X_resA, y_resA)\n",
    "\n",
    "print(dt.datetime.now())"
   ]
  }
 ],
 "metadata": {
  "kernelspec": {
   "display_name": "Python 3 (ipykernel)",
   "language": "python",
   "name": "python3"
  },
  "language_info": {
   "codemirror_mode": {
    "name": "ipython",
    "version": 3
   },
   "file_extension": ".py",
   "mimetype": "text/x-python",
   "name": "python",
   "nbconvert_exporter": "python",
   "pygments_lexer": "ipython3",
   "version": "3.11.5"
  }
 },
 "nbformat": 4,
 "nbformat_minor": 5
}
